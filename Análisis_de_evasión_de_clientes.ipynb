{
  "nbformat": 4,
  "nbformat_minor": 0,
  "metadata": {
    "colab": {
      "provenance": [],
      "mount_file_id": "1ARmPthMXfbQwBY8jrs6qxQhLFvGWT1Mo",
      "authorship_tag": "ABX9TyP7d/0RgJqY3UufRI2i7Vvf",
      "include_colab_link": true
    },
    "kernelspec": {
      "name": "python3",
      "display_name": "Python 3"
    },
    "language_info": {
      "name": "python"
    }
  },
  "cells": [
    {
      "cell_type": "markdown",
      "metadata": {
        "id": "view-in-github",
        "colab_type": "text"
      },
      "source": [
        "<a href=\"https://colab.research.google.com/github/VaDiLeMa/-Desaf-o-de-la-tienda-Alura/blob/main/An%C3%A1lisis_de_evasi%C3%B3n_de_clientes.ipynb\" target=\"_parent\"><img src=\"https://colab.research.google.com/assets/colab-badge.svg\" alt=\"Open In Colab\"/></a>"
      ]
    },
    {
      "cell_type": "code",
      "execution_count": 73,
      "metadata": {
        "id": "oSCdcwS09RxZ"
      },
      "outputs": [],
      "source": [
        "import pandas as pd\n",
        "import matplotlib.pyplot as plt\n",
        "import seaborn as sns"
      ]
    },
    {
      "cell_type": "code",
      "source": [
        "data = pd.read_json(\"TelecomX_Data.json\")"
      ],
      "metadata": {
        "id": "g2-Cyc5z_unr"
      },
      "execution_count": 91,
      "outputs": []
    },
    {
      "cell_type": "code",
      "source": [
        "df = pd.json_normalize(data.to_dict(orient='records'))\n"
      ],
      "metadata": {
        "id": "ruEeCi8v_up7"
      },
      "execution_count": 92,
      "outputs": []
    },
    {
      "cell_type": "code",
      "source": [
        "print(df.head())"
      ],
      "metadata": {
        "colab": {
          "base_uri": "https://localhost:8080/"
        },
        "collapsed": true,
        "id": "0K0Zqqx0Dm4g",
        "outputId": "fdc6d9d7-604e-4d8a-d81a-44852cc01f9b"
      },
      "execution_count": 76,
      "outputs": [
        {
          "output_type": "stream",
          "name": "stdout",
          "text": [
            "   customerID Churn customer.gender  customer.SeniorCitizen customer.Partner  \\\n",
            "0  0002-ORFBO    No          Female                       0              Yes   \n",
            "1  0003-MKNFE    No            Male                       0               No   \n",
            "2  0004-TLHLJ   Yes            Male                       0               No   \n",
            "3  0011-IGKFF   Yes            Male                       1              Yes   \n",
            "4  0013-EXCHZ   Yes          Female                       1              Yes   \n",
            "\n",
            "  customer.Dependents  customer.tenure phone.PhoneService phone.MultipleLines  \\\n",
            "0                 Yes                9                Yes                  No   \n",
            "1                  No                9                Yes                 Yes   \n",
            "2                  No                4                Yes                  No   \n",
            "3                  No               13                Yes                  No   \n",
            "4                  No                3                Yes                  No   \n",
            "\n",
            "  internet.InternetService  ... internet.OnlineBackup  \\\n",
            "0                      DSL  ...                   Yes   \n",
            "1                      DSL  ...                    No   \n",
            "2              Fiber optic  ...                    No   \n",
            "3              Fiber optic  ...                   Yes   \n",
            "4              Fiber optic  ...                    No   \n",
            "\n",
            "  internet.DeviceProtection internet.TechSupport internet.StreamingTV  \\\n",
            "0                        No                  Yes                  Yes   \n",
            "1                        No                   No                   No   \n",
            "2                       Yes                   No                   No   \n",
            "3                       Yes                   No                  Yes   \n",
            "4                        No                  Yes                  Yes   \n",
            "\n",
            "  internet.StreamingMovies account.Contract account.PaperlessBilling  \\\n",
            "0                       No         One year                      Yes   \n",
            "1                      Yes   Month-to-month                       No   \n",
            "2                       No   Month-to-month                      Yes   \n",
            "3                      Yes   Month-to-month                      Yes   \n",
            "4                       No   Month-to-month                      Yes   \n",
            "\n",
            "  account.PaymentMethod account.Charges.Monthly  account.Charges.Total  \n",
            "0          Mailed check                    65.6                  593.3  \n",
            "1          Mailed check                    59.9                  542.4  \n",
            "2      Electronic check                    73.9                 280.85  \n",
            "3      Electronic check                    98.0                1237.85  \n",
            "4          Mailed check                    83.9                  267.4  \n",
            "\n",
            "[5 rows x 21 columns]\n"
          ]
        }
      ]
    },
    {
      "cell_type": "code",
      "source": [
        "print(data.info())"
      ],
      "metadata": {
        "colab": {
          "base_uri": "https://localhost:8080/"
        },
        "collapsed": true,
        "id": "elnAgdxUD7jG",
        "outputId": "970612fa-dbfe-41b0-90f6-b4ceb243f7c1"
      },
      "execution_count": 77,
      "outputs": [
        {
          "output_type": "stream",
          "name": "stdout",
          "text": [
            "<class 'pandas.core.frame.DataFrame'>\n",
            "RangeIndex: 7267 entries, 0 to 7266\n",
            "Data columns (total 6 columns):\n",
            " #   Column      Non-Null Count  Dtype \n",
            "---  ------      --------------  ----- \n",
            " 0   customerID  7267 non-null   object\n",
            " 1   Churn       7267 non-null   object\n",
            " 2   customer    7267 non-null   object\n",
            " 3   phone       7267 non-null   object\n",
            " 4   internet    7267 non-null   object\n",
            " 5   account     7267 non-null   object\n",
            "dtypes: object(6)\n",
            "memory usage: 340.8+ KB\n",
            "None\n"
          ]
        }
      ]
    },
    {
      "cell_type": "markdown",
      "source": [
        "# Valores nulos por columnas"
      ],
      "metadata": {
        "id": "eSTWE5YpFtP-"
      }
    },
    {
      "cell_type": "code",
      "source": [
        "print(df.isnull())"
      ],
      "metadata": {
        "colab": {
          "base_uri": "https://localhost:8080/"
        },
        "collapsed": true,
        "id": "6CUE1h7kEC-t",
        "outputId": "dcc0b1e1-d140-4747-cc46-9171b27fe6c2"
      },
      "execution_count": 78,
      "outputs": [
        {
          "output_type": "stream",
          "name": "stdout",
          "text": [
            "      customerID  Churn  customer.gender  customer.SeniorCitizen  \\\n",
            "0          False  False            False                   False   \n",
            "1          False  False            False                   False   \n",
            "2          False  False            False                   False   \n",
            "3          False  False            False                   False   \n",
            "4          False  False            False                   False   \n",
            "...          ...    ...              ...                     ...   \n",
            "7262       False  False            False                   False   \n",
            "7263       False  False            False                   False   \n",
            "7264       False  False            False                   False   \n",
            "7265       False  False            False                   False   \n",
            "7266       False  False            False                   False   \n",
            "\n",
            "      customer.Partner  customer.Dependents  customer.tenure  \\\n",
            "0                False                False            False   \n",
            "1                False                False            False   \n",
            "2                False                False            False   \n",
            "3                False                False            False   \n",
            "4                False                False            False   \n",
            "...                ...                  ...              ...   \n",
            "7262             False                False            False   \n",
            "7263             False                False            False   \n",
            "7264             False                False            False   \n",
            "7265             False                False            False   \n",
            "7266             False                False            False   \n",
            "\n",
            "      phone.PhoneService  phone.MultipleLines  internet.InternetService  ...  \\\n",
            "0                  False                False                     False  ...   \n",
            "1                  False                False                     False  ...   \n",
            "2                  False                False                     False  ...   \n",
            "3                  False                False                     False  ...   \n",
            "4                  False                False                     False  ...   \n",
            "...                  ...                  ...                       ...  ...   \n",
            "7262               False                False                     False  ...   \n",
            "7263               False                False                     False  ...   \n",
            "7264               False                False                     False  ...   \n",
            "7265               False                False                     False  ...   \n",
            "7266               False                False                     False  ...   \n",
            "\n",
            "      internet.OnlineBackup  internet.DeviceProtection  internet.TechSupport  \\\n",
            "0                     False                      False                 False   \n",
            "1                     False                      False                 False   \n",
            "2                     False                      False                 False   \n",
            "3                     False                      False                 False   \n",
            "4                     False                      False                 False   \n",
            "...                     ...                        ...                   ...   \n",
            "7262                  False                      False                 False   \n",
            "7263                  False                      False                 False   \n",
            "7264                  False                      False                 False   \n",
            "7265                  False                      False                 False   \n",
            "7266                  False                      False                 False   \n",
            "\n",
            "      internet.StreamingTV  internet.StreamingMovies  account.Contract  \\\n",
            "0                    False                     False             False   \n",
            "1                    False                     False             False   \n",
            "2                    False                     False             False   \n",
            "3                    False                     False             False   \n",
            "4                    False                     False             False   \n",
            "...                    ...                       ...               ...   \n",
            "7262                 False                     False             False   \n",
            "7263                 False                     False             False   \n",
            "7264                 False                     False             False   \n",
            "7265                 False                     False             False   \n",
            "7266                 False                     False             False   \n",
            "\n",
            "      account.PaperlessBilling  account.PaymentMethod  \\\n",
            "0                        False                  False   \n",
            "1                        False                  False   \n",
            "2                        False                  False   \n",
            "3                        False                  False   \n",
            "4                        False                  False   \n",
            "...                        ...                    ...   \n",
            "7262                     False                  False   \n",
            "7263                     False                  False   \n",
            "7264                     False                  False   \n",
            "7265                     False                  False   \n",
            "7266                     False                  False   \n",
            "\n",
            "      account.Charges.Monthly  account.Charges.Total  \n",
            "0                       False                  False  \n",
            "1                       False                  False  \n",
            "2                       False                  False  \n",
            "3                       False                  False  \n",
            "4                       False                  False  \n",
            "...                       ...                    ...  \n",
            "7262                    False                  False  \n",
            "7263                    False                  False  \n",
            "7264                    False                  False  \n",
            "7265                    False                  False  \n",
            "7266                    False                  False  \n",
            "\n",
            "[7267 rows x 21 columns]\n"
          ]
        }
      ]
    },
    {
      "cell_type": "markdown",
      "source": [
        "#Limpieza de datos, algunos registros tienen Churn vacio,\n",
        "              procedemos a eliminarlos"
      ],
      "metadata": {
        "id": "0B5x9OwSF7CF"
      }
    },
    {
      "cell_type": "code",
      "source": [
        "df = df[df[\"Churn\"].isin([\"Yes\", \"No\"])]"
      ],
      "metadata": {
        "id": "RcLikDcP_us6"
      },
      "execution_count": 79,
      "outputs": []
    },
    {
      "cell_type": "markdown",
      "source": [
        "# Numero de Clientes que se fueron Vs numero de clientes que se quedaron"
      ],
      "metadata": {
        "id": "Pu5--j6vE3AD"
      }
    },
    {
      "cell_type": "code",
      "source": [
        "print(df[\"Churn\"].value_counts())\n"
      ],
      "metadata": {
        "colab": {
          "base_uri": "https://localhost:8080/"
        },
        "collapsed": true,
        "id": "4h1sCnIGEL-q",
        "outputId": "dbe3120b-baf3-47db-9162-47674e7b72ad"
      },
      "execution_count": 80,
      "outputs": [
        {
          "output_type": "stream",
          "name": "stdout",
          "text": [
            "Churn\n",
            "No     5174\n",
            "Yes    1869\n",
            "Name: count, dtype: int64\n"
          ]
        }
      ]
    },
    {
      "cell_type": "code",
      "source": [
        "sns.countplot(x=\"Churn\", data=df)\n",
        "plt.title(\"Clientes que se quedaron (1) Vs Clientes que se fueron(0)\")\n",
        "plt.show"
      ],
      "metadata": {
        "colab": {
          "base_uri": "https://localhost:8080/",
          "height": 641
        },
        "collapsed": true,
        "id": "IWIg9rHtDfUd",
        "outputId": "4dc13de4-7d07-4803-bc5a-8259e2be9c46"
      },
      "execution_count": 81,
      "outputs": [
        {
          "output_type": "execute_result",
          "data": {
            "text/plain": [
              "<function matplotlib.pyplot.show(close=None, block=None)>"
            ],
            "text/html": [
              "<div style=\"max-width:800px; border: 1px solid var(--colab-border-color);\"><style>\n",
              "      pre.function-repr-contents {\n",
              "        overflow-x: auto;\n",
              "        padding: 8px 12px;\n",
              "        max-height: 500px;\n",
              "      }\n",
              "\n",
              "      pre.function-repr-contents.function-repr-contents-collapsed {\n",
              "        cursor: pointer;\n",
              "        max-height: 100px;\n",
              "      }\n",
              "    </style>\n",
              "    <pre style=\"white-space: initial; background:\n",
              "         var(--colab-secondary-surface-color); padding: 8px 12px;\n",
              "         border-bottom: 1px solid var(--colab-border-color);\"><b>matplotlib.pyplot.show</b><br/>def show(*args, **kwargs) -&gt; None</pre><pre class=\"function-repr-contents function-repr-contents-collapsed\" style=\"\"><a class=\"filepath\" style=\"display:none\" href=\"#\">/usr/local/lib/python3.11/dist-packages/matplotlib/pyplot.py</a>Display all open figures.\n",
              "\n",
              "Parameters\n",
              "----------\n",
              "block : bool, optional\n",
              "    Whether to wait for all figures to be closed before returning.\n",
              "\n",
              "    If `True` block and run the GUI main loop until all figure windows\n",
              "    are closed.\n",
              "\n",
              "    If `False` ensure that all figure windows are displayed and return\n",
              "    immediately.  In this case, you are responsible for ensuring\n",
              "    that the event loop is running to have responsive figures.\n",
              "\n",
              "    Defaults to True in non-interactive mode and to False in interactive\n",
              "    mode (see `.pyplot.isinteractive`).\n",
              "\n",
              "See Also\n",
              "--------\n",
              "ion : Enable interactive mode, which shows / updates the figure after\n",
              "      every plotting command, so that calling ``show()`` is not necessary.\n",
              "ioff : Disable interactive mode.\n",
              "savefig : Save the figure to an image file instead of showing it on screen.\n",
              "\n",
              "Notes\n",
              "-----\n",
              "**Saving figures to file and showing a window at the same time**\n",
              "\n",
              "If you want an image file as well as a user interface window, use\n",
              "`.pyplot.savefig` before `.pyplot.show`. At the end of (a blocking)\n",
              "``show()`` the figure is closed and thus unregistered from pyplot. Calling\n",
              "`.pyplot.savefig` afterwards would save a new and thus empty figure. This\n",
              "limitation of command order does not apply if the show is non-blocking or\n",
              "if you keep a reference to the figure and use `.Figure.savefig`.\n",
              "\n",
              "**Auto-show in jupyter notebooks**\n",
              "\n",
              "The jupyter backends (activated via ``%matplotlib inline``,\n",
              "``%matplotlib notebook``, or ``%matplotlib widget``), call ``show()`` at\n",
              "the end of every cell by default. Thus, you usually don&#x27;t have to call it\n",
              "explicitly there.</pre>\n",
              "      <script>\n",
              "      if (google.colab.kernel.accessAllowed && google.colab.files && google.colab.files.view) {\n",
              "        for (const element of document.querySelectorAll('.filepath')) {\n",
              "          element.style.display = 'block'\n",
              "          element.onclick = (event) => {\n",
              "            event.preventDefault();\n",
              "            event.stopPropagation();\n",
              "            google.colab.files.view(element.textContent, 569);\n",
              "          };\n",
              "        }\n",
              "      }\n",
              "      for (const element of document.querySelectorAll('.function-repr-contents')) {\n",
              "        element.onclick = (event) => {\n",
              "          event.preventDefault();\n",
              "          event.stopPropagation();\n",
              "          element.classList.toggle('function-repr-contents-collapsed');\n",
              "        };\n",
              "      }\n",
              "      </script>\n",
              "      </div>"
            ]
          },
          "metadata": {},
          "execution_count": 81
        },
        {
          "output_type": "display_data",
          "data": {
            "text/plain": [
              "<Figure size 640x480 with 1 Axes>"
            ],
            "image/png": "[encoded data removed]"
          },
          "metadata": {}
        }
      ]
    },
    {
      "cell_type": "markdown",
      "source": [
        "#Convertir el total a numerico"
      ],
      "metadata": {
        "id": "J3vrEn2iJktQ"
      }
    },
    {
      "cell_type": "code",
      "source": [
        "df[\"account.Charges.Total\"] = pd.to_numeric(df[\"account.Charges.Total\"], errors=\"coerce\")"
      ],
      "metadata": {
        "id": "7ZR4SDRvDf1m"
      },
      "execution_count": 82,
      "outputs": []
    },
    {
      "cell_type": "code",
      "source": [
        "df = df.fillna(0)"
      ],
      "metadata": {
        "id": "JV5Dj3nVJjG1"
      },
      "execution_count": 83,
      "outputs": []
    },
    {
      "cell_type": "code",
      "source": [
        "print (df.shape)"
      ],
      "metadata": {
        "colab": {
          "base_uri": "https://localhost:8080/"
        },
        "id": "A_a6KNuNJjI2",
        "outputId": "697757d6-4b69-4df5-9b4b-719c73d7770b"
      },
      "execution_count": 84,
      "outputs": [
        {
          "output_type": "stream",
          "name": "stdout",
          "text": [
            "(7043, 21)\n"
          ]
        }
      ]
    },
    {
      "cell_type": "code",
      "source": [
        "print(df['Churn'].value_counts)"
      ],
      "metadata": {
        "colab": {
          "base_uri": "https://localhost:8080/"
        },
        "id": "nrHlF9nSHd0n",
        "outputId": "f9284ca4-56a2-4ae7-abf6-3c81550ca6b7"
      },
      "execution_count": 85,
      "outputs": [
        {
          "output_type": "stream",
          "name": "stdout",
          "text": [
            "<bound method IndexOpsMixin.value_counts of 0        No\n",
            "1        No\n",
            "2       Yes\n",
            "3       Yes\n",
            "4       Yes\n",
            "       ... \n",
            "7262     No\n",
            "7263    Yes\n",
            "7264     No\n",
            "7265     No\n",
            "7266     No\n",
            "Name: Churn, Length: 7043, dtype: object>\n"
          ]
        }
      ]
    },
    {
      "cell_type": "markdown",
      "source": [
        "#Churn por metodo de pago"
      ],
      "metadata": {
        "id": "Lzo7BRufL_3w"
      }
    },
    {
      "cell_type": "code",
      "source": [
        "plt.figure(figsize=(10, 6))\n",
        "sns.countplot(x=\"account.PaymentMethod\", hue=\"Churn\", data=df)\n",
        "plt.title(\"Churn por Metodo de Pago\")\n",
        "plt.show()"
      ],
      "metadata": {
        "colab": {
          "base_uri": "https://localhost:8080/",
          "height": 562
        },
        "collapsed": true,
        "id": "haTbbm2YKfDo",
        "outputId": "ac876904-e0b4-4811-b712-cd17b4b31725"
      },
      "execution_count": 86,
      "outputs": [
        {
          "output_type": "display_data",
          "data": {
            "text/plain": [
              "<Figure size 1000x600 with 1 Axes>"
            ],
            "image/png": "[encoded data removed]"
          },
          "metadata": {}
        }
      ]
    },
    {
      "cell_type": "code",
      "source": [
        "plt.figure(figsize=(6,4))\n",
        "sns.countplot(x=\"account.Contract\", hue=\"Churn\", data=df)\n",
        "plt.title(\"Tipo de contrato y churn\")\n",
        "plt.show()"
      ],
      "metadata": {
        "colab": {
          "base_uri": "https://localhost:8080/",
          "height": 410
        },
        "id": "MR8w6WqjKfJp",
        "outputId": "94be8001-f5ea-4f60-fba2-52513cc18ad7"
      },
      "execution_count": 87,
      "outputs": [
        {
          "output_type": "display_data",
          "data": {
            "text/plain": [
              "<Figure size 600x400 with 1 Axes>"
            ],
            "image/png": "[encoded data removed]"
          },
          "metadata": {}
        }
      ]
    },
    {
      "cell_type": "code",
      "source": [],
      "metadata": {
        "id": "2oeN59U3TgDe"
      },
      "execution_count": 87,
      "outputs": []
    },
    {
      "cell_type": "markdown",
      "source": [
        "# Transformamos variables categoricas (version simple con LabelEnconder)"
      ],
      "metadata": {
        "id": "xNb5dQIuVvIo"
      }
    },
    {
      "cell_type": "code",
      "source": [
        "from sklearn.preprocessing import LabelEncoder\n",
        "\n",
        "df_encoded = df.copy()\n",
        "for col in [\"customer.gender\", \"account.Contract\", \"account.PaymentMethod\", \"internet.InternetService\"]:\n",
        "  le = LabelEncoder()\n",
        "  df_encoded[col] = le.fit_transform(df_encoded[col])"
      ],
      "metadata": {
        "id": "ulYH4hckUofh"
      },
      "execution_count": 88,
      "outputs": []
    },
    {
      "cell_type": "code",
      "source": [],
      "metadata": {
        "id": "S2CjBM4mUohj"
      },
      "execution_count": 88,
      "outputs": []
    },
    {
      "cell_type": "markdown",
      "source": [
        "#Mini modelo predictivo"
      ],
      "metadata": {
        "id": "Fw3kS9wjfzpS"
      }
    },
    {
      "cell_type": "code",
      "source": [
        "from sklearn.model_selection import train_test_split\n",
        "from sklearn.linear_model import LogisticRegression\n",
        "\n",
        "x =  df_encoded[[\"customer.tenure\",\"account.Charges.Monthly\",\"account.Charges.Total\",\n",
        "                 \"customer.gender\",\"account.Contract\",\"account.PaymentMethod\",\"internet.InternetService\"]]\n",
        "\n",
        "y = df_encoded[\"Churn\"].apply(lambda x: 1 if x == \"Yes\" else 0)\n",
        "\n",
        "x_train, x_test, y_train, y_test = train_test_split(x, y, test_size=0.2, random_state=42)\n",
        "\n",
        "model = LogisticRegression(max_iter=1000)\n",
        "model.fit(x_train, y_train)\n",
        "\n",
        "y_pred = model.predict(x_test)"
      ],
      "metadata": {
        "collapsed": true,
        "id": "E7pLqgJmUolG"
      },
      "execution_count": 89,
      "outputs": []
    },
    {
      "cell_type": "code",
      "source": [
        "from sklearn.metrics import accuracy_score, confusion_matrix, ConfusionMatrixDisplay\n",
        "\n",
        "print(\"\\nExactitud del modelo (simple):\", accuracy_score(y_test, y_pred))\n",
        "\n",
        "cm = confusion_matrix(y_test, y_pred)\n",
        "disp = ConfusionMatrixDisplay(confusion_matrix=cm, display_labels=[\"No Churn\", \"Churn\"])\n",
        "disp.plot()\n",
        "\n",
        "plt.title(\"Matriz de confusion - Churn\")\n",
        "plt.xlabel(\"Predicciones\")\n",
        "plt.ylabel(\"Valores reales\")\n",
        "plt.show()"
      ],
      "metadata": {
        "colab": {
          "base_uri": "https://localhost:8080/",
          "height": 507
        },
        "id": "g1nhwqYtV-Yz",
        "outputId": "5d4b14de-faf8-4eb6-ed53-9f87672daf86"
      },
      "execution_count": 90,
      "outputs": [
        {
          "output_type": "stream",
          "name": "stdout",
          "text": [
            "\n",
            "Exactitud del modelo (simple): 0.7899219304471257\n"
          ]
        },
        {
          "output_type": "display_data",
          "data": {
            "text/plain": [
              "<Figure size 640x480 with 2 Axes>"
            ],
            "image/png": "[encoded data removed]"
          },
          "metadata": {}
        }
      ]
    },
    {
      "cell_type": "markdown",
      "source": [
        "#Conclusiones"
      ],
      "metadata": {
        "id": "CdiwYrrtkEn-"
      }
    },
    {
      "cell_type": "code",
      "source": [
        "print(\"Loscontratos mensuales tienen más cancelaciones\")\n",
        "print(\"El modelo simple de regresión logística logra una exactitud **moderada**\")\n",
        "print(\" El método de pago **Electronic check** aparece mucho en clientes que se fueron. \")\n",
        "print(\" Clientes con mayor **tenure (tiempo en la empresa)** son más leales.  \")"
      ],
      "metadata": {
        "colab": {
          "base_uri": "https://localhost:8080/"
        },
        "id": "PwIbGLUAV-a1",
        "outputId": "b33a033e-15ca-4457-bb87-89684637ac84"
      },
      "execution_count": 94,
      "outputs": [
        {
          "output_type": "stream",
          "name": "stdout",
          "text": [
            "Loscontratos mensuales tienen más cancelaciones\n",
            "El modelo simple de regresión logística logra una exactitud **moderada**\n",
            " El método de pago **Electronic check** aparece mucho en clientes que se fueron. \n",
            " Clientes con mayor **tenure (tiempo en la empresa)** son más leales.  \n"
          ]
        }
      ]
    },
    {
      "cell_type": "code",
      "source": [],
      "metadata": {
        "id": "dC2NhOw-V-cp"
      },
      "execution_count": 90,
      "outputs": []
    },
    {
      "cell_type": "code",
      "source": [],
      "metadata": {
        "id": "pB7hh8DSj1xp"
      },
      "execution_count": null,
      "outputs": []
    },
    {
      "cell_type": "code",
      "source": [],
      "metadata": {
        "id": "WiKX8S09j11X"
      },
      "execution_count": null,
      "outputs": []
    },
    {
      "cell_type": "code",
      "source": [],
      "metadata": {
        "id": "GwOR1N_aj13g"
      },
      "execution_count": null,
      "outputs": []
    },
    {
      "cell_type": "code",
      "source": [],
      "metadata": {
        "id": "V-oEdI8dj16H"
      },
      "execution_count": null,
      "outputs": []
    }
  ]
}